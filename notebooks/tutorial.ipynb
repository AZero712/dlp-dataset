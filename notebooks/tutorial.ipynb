{
 "cells": [
  {
   "cell_type": "markdown",
   "source": [
    "# Parking Dataset\n",
    "\n",
    "This notebook walks through usage of the Parking Dataset API."
   ],
   "metadata": {}
  },
  {
   "cell_type": "markdown",
   "source": [
    "### Setup\n",
    "\n",
    "The `load()` method loads all JSON files for a scene. In this example, we are loading:\n",
    "\n",
    "- `data/DJI_0001_frames.json`\n",
    "- `data/DJI_0001_agents.json`\n",
    "- `data/DJI_0001_instances.json`\n",
    "- `data/DJI_0001_obstacles.json`\n",
    "- `data/DJI_0001_scene.json`"
   ],
   "metadata": {}
  },
  {
   "cell_type": "code",
   "execution_count": 1,
   "source": [
    "from dlp.dataset import Dataset\n",
    "\n",
    "ds = Dataset()\n",
    "ds.load('../data/DJI_0012')"
   ],
   "outputs": [
    {
     "output_type": "error",
     "ename": "ModuleNotFoundError",
     "evalue": "No module named 'dlp'",
     "traceback": [
      "\u001b[0;31m---------------------------------------------------------------------------\u001b[0m",
      "\u001b[0;31mModuleNotFoundError\u001b[0m                       Traceback (most recent call last)",
      "\u001b[0;32m/var/folders/pk/5sm81b4d53q3csdlglg8ctmm0000gn/T/ipykernel_25490/3589381416.py\u001b[0m in \u001b[0;36m<module>\u001b[0;34m\u001b[0m\n\u001b[0;32m----> 1\u001b[0;31m \u001b[0;32mfrom\u001b[0m \u001b[0mdlp\u001b[0m\u001b[0;34m.\u001b[0m\u001b[0mdataset\u001b[0m \u001b[0;32mimport\u001b[0m \u001b[0mDataset\u001b[0m\u001b[0;34m\u001b[0m\u001b[0;34m\u001b[0m\u001b[0m\n\u001b[0m\u001b[1;32m      2\u001b[0m \u001b[0;34m\u001b[0m\u001b[0m\n\u001b[1;32m      3\u001b[0m \u001b[0mds\u001b[0m \u001b[0;34m=\u001b[0m \u001b[0mDataset\u001b[0m\u001b[0;34m(\u001b[0m\u001b[0;34m)\u001b[0m\u001b[0;34m\u001b[0m\u001b[0;34m\u001b[0m\u001b[0m\n\u001b[1;32m      4\u001b[0m \u001b[0mds\u001b[0m\u001b[0;34m.\u001b[0m\u001b[0mload\u001b[0m\u001b[0;34m(\u001b[0m\u001b[0;34m'../data/DJI_0012'\u001b[0m\u001b[0;34m)\u001b[0m\u001b[0;34m\u001b[0m\u001b[0;34m\u001b[0m\u001b[0m\n",
      "\u001b[0;31mModuleNotFoundError\u001b[0m: No module named 'dlp'"
     ]
    }
   ],
   "metadata": {}
  },
  {
   "cell_type": "markdown",
   "source": [
    "### Scenes\n",
    "\n",
    "We can use `list_scenes()` to obtain a list of tokens corresponding to scenes that have been loaded."
   ],
   "metadata": {}
  },
  {
   "cell_type": "code",
   "execution_count": 2,
   "source": [
    "all_scenes = ds.list_scenes()\n",
    "all_scenes"
   ],
   "outputs": [
    {
     "output_type": "execute_result",
     "data": {
      "text/plain": [
       "['66045def24565e370dff814aa01e8ffed07318b9']"
      ]
     },
     "metadata": {},
     "execution_count": 2
    }
   ],
   "metadata": {}
  },
  {
   "cell_type": "markdown",
   "source": [
    "Use `get()` to look up a data object by its token."
   ],
   "metadata": {}
  },
  {
   "cell_type": "code",
   "execution_count": 3,
   "source": [
    "scene_token = all_scenes[0]\n",
    "scene = ds.get('scene', scene_token)\n",
    "print(\"Keys:\", scene.keys())\n",
    "print(\"Scene_token:\", scene['scene_token'])\n",
    "print(\"filename:\", scene['filename'])\n",
    "print(\"timestamp:\", scene['timestamp'])\n",
    "print(\"first_frame:\", scene['first_frame'])\n",
    "print(\"last_frame:\", scene['last_frame'])\n",
    "print(\"agents (preview):\", scene['agents'][:2])\n",
    "print(\"obstacles (preview):\", scene['obstacles'][:2])"
   ],
   "outputs": [
    {
     "output_type": "stream",
     "name": "stdout",
     "text": [
      "Keys: dict_keys(['scene_token', 'filename', 'timestamp', 'first_frame', 'last_frame', 'agents', 'obstacles'])\n",
      "Scene_token: 66045def24565e370dff814aa01e8ffed07318b9\n",
      "filename: DJI_0012\n",
      "timestamp: 2020-08-08 10:08:03\n",
      "first_frame: 840d7356e46973280c5e71d628fc3b240bfd040a\n",
      "last_frame: 989b3f56582cdc1af8b1a5a51693bd83327851c9\n",
      "agents (preview): ['a1b3619e3bc68c3de29af54ba9ff3de96c7de3dc', '44bcb749f3901204f4aba6e35615f5e026d7c4cc']\n",
      "obstacles (preview): ['02778fb4cafec30d01ba4e59a8eb53f19c3b9c86', '8d08ec553539276f33cba6aa12eed8fc07371672']\n"
     ]
    }
   ],
   "metadata": {}
  },
  {
   "cell_type": "markdown",
   "source": [
    "### Frames\n",
    "\n",
    "Let's look at the first frame in the scene:"
   ],
   "metadata": {}
  },
  {
   "cell_type": "code",
   "execution_count": 4,
   "source": [
    "frame_token = scene['first_frame']\n",
    "frame = ds.get('frame', frame_token)\n",
    "print(\"Keys:\", frame.keys())\n",
    "print(\"frame_token:\", frame['frame_token'])\n",
    "print(\"scene_token:\", frame['scene_token'])\n",
    "print(\"timestamp:\", frame['timestamp'])\n",
    "print(\"instances (preview):\", frame['instances'][:2])"
   ],
   "outputs": [
    {
     "output_type": "stream",
     "name": "stdout",
     "text": [
      "Keys: dict_keys(['frame_token', 'scene_token', 'timestamp', 'prev', 'next', 'instances'])\n",
      "frame_token: 840d7356e46973280c5e71d628fc3b240bfd040a\n",
      "scene_token: 66045def24565e370dff814aa01e8ffed07318b9\n",
      "timestamp: 0.0\n",
      "instances (preview): ['0a72735ac3b5f6f50bfa50ad8e91ac3e40277854', 'f7db24901446b67361768323726b312db36b0f36']\n"
     ]
    }
   ],
   "metadata": {}
  },
  {
   "cell_type": "markdown",
   "source": [
    "We can use the `get_future_frames()` or `get_past_frames()` methods look at a specified number of preceding/subsequent frames. The example below returns a list containing the given frame and the next 5 frames."
   ],
   "metadata": {}
  },
  {
   "cell_type": "code",
   "execution_count": 5,
   "source": [
    "future_frames = ds.get_future_frames(frame_token, timesteps=5)\n",
    "print(\"Keys:\", future_frames[0].keys())"
   ],
   "outputs": [
    {
     "output_type": "stream",
     "name": "stdout",
     "text": [
      "Keys: dict_keys(['frame_token', 'scene_token', 'timestamp', 'prev', 'next', 'instances'])\n"
     ]
    }
   ],
   "metadata": {}
  },
  {
   "cell_type": "markdown",
   "source": [
    "### Agents\n",
    "\n",
    "Now let's look at an agent:"
   ],
   "metadata": {}
  },
  {
   "cell_type": "code",
   "execution_count": 6,
   "source": [
    "agent_token = scene['agents'][0]\n",
    "agent = ds.get('agent', agent_token)\n",
    "agent"
   ],
   "outputs": [
    {
     "output_type": "execute_result",
     "data": {
      "text/plain": [
       "{'agent_token': 'a1b3619e3bc68c3de29af54ba9ff3de96c7de3dc',\n",
       " 'scene_token': '66045def24565e370dff814aa01e8ffed07318b9',\n",
       " 'type': 'Car',\n",
       " 'size': [4.7048, 1.8778],\n",
       " 'first_instance': '0a72735ac3b5f6f50bfa50ad8e91ac3e40277854',\n",
       " 'last_instance': 'f1479898cad572acaabc6f4c3aa90d21030cb89a'}"
      ]
     },
     "metadata": {},
     "execution_count": 6
    }
   ],
   "metadata": {}
  },
  {
   "cell_type": "markdown",
   "source": [
    "Use `get_agent_instances()` to see all instances of an agent in the scene."
   ],
   "metadata": {}
  },
  {
   "cell_type": "code",
   "execution_count": 7,
   "source": [
    "agent_instances = ds.get_agent_instances(agent_token)\n",
    "\n",
    "print(\"Keys:\", agent_instances[0].keys())\n",
    "print(\"coords:\", agent_instances[0]['coords'])\n",
    "print(\"heading:\", agent_instances[0]['heading'])\n",
    "print(\"speed:\", agent_instances[0]['speed'])\n",
    "print(\"acceleration:\", agent_instances[0]['acceleration'])\n",
    "print(\"mode:\", agent_instances[0]['mode'])\n",
    "print(\"prev:\", agent_instances[0]['prev'])\n",
    "print(\"next:\", agent_instances[0]['next'])"
   ],
   "outputs": [
    {
     "output_type": "stream",
     "name": "stdout",
     "text": [
      "Keys: dict_keys(['instance_token', 'agent_token', 'frame_token', 'coords', 'heading', 'speed', 'acceleration', 'mode', 'prev', 'next'])\n",
      "coords: [88.55000000004657, 63.47999999998137]\n",
      "heading: 1.328607346410207\n",
      "speed: 0.23\n",
      "acceleration: [0.0056, 0.0089]\n",
      "mode: \n",
      "prev: \n",
      "next: 2e40de975f5ec83c4831c54f8cb58275785a3ea8\n"
     ]
    }
   ],
   "metadata": {}
  },
  {
   "cell_type": "markdown",
   "source": [
    "### Instances\n",
    "\n",
    "This is the last instance of our agent in the scene:"
   ],
   "metadata": {}
  },
  {
   "cell_type": "code",
   "execution_count": 8,
   "source": [
    "instance_token = agent['last_instance']\n",
    "instance = ds.get('instance', instance_token)\n",
    "instance"
   ],
   "outputs": [
    {
     "output_type": "execute_result",
     "data": {
      "text/plain": [
       "{'instance_token': 'f1479898cad572acaabc6f4c3aa90d21030cb89a',\n",
       " 'agent_token': 'a1b3619e3bc68c3de29af54ba9ff3de96c7de3dc',\n",
       " 'frame_token': '989b3f56582cdc1af8b1a5a51693bd83327851c9',\n",
       " 'coords': [87.81000000005588, 58.43000000016764],\n",
       " 'heading': 1.535607346410207,\n",
       " 'speed': 0.0,\n",
       " 'acceleration': [0.0, 0.0],\n",
       " 'mode': '',\n",
       " 'prev': '17df17632f8e8533b7b17052ee97a2e3cd2b3385',\n",
       " 'next': ''}"
      ]
     },
     "metadata": {},
     "execution_count": 8
    }
   ],
   "metadata": {}
  },
  {
   "cell_type": "markdown",
   "source": [
    "We can use the `get_agent_future()` or `get_agent_past()` methods to look at a specified number of future/past instances of this agent. The example below returns a list containing the previous 5 instances along with the given instance."
   ],
   "metadata": {}
  },
  {
   "cell_type": "code",
   "execution_count": 9,
   "source": [
    "past_instances = ds.get_agent_past(instance_token, timesteps=5)\n",
    "\n",
    "print(\"Keys:\", past_instances[0].keys())\n",
    "print(\"coords:\", past_instances[0]['coords'])\n",
    "print(\"heading:\", past_instances[0]['heading'])\n",
    "print(\"speed:\", past_instances[0]['speed'])\n",
    "print(\"acceleration:\", past_instances[0]['acceleration'])\n",
    "print(\"mode:\", past_instances[0]['mode'])\n",
    "print(\"prev:\", past_instances[0]['prev'])\n",
    "print(\"next:\", past_instances[0]['next'])"
   ],
   "outputs": [
    {
     "output_type": "stream",
     "name": "stdout",
     "text": [
      "Keys: dict_keys(['instance_token', 'agent_token', 'frame_token', 'coords', 'heading', 'speed', 'acceleration', 'mode', 'prev', 'next'])\n",
      "coords: [87.81000000005588, 58.43000000016764]\n",
      "heading: 1.535607346410207\n",
      "speed: 0.0\n",
      "acceleration: [0.0, 0.0]\n",
      "mode: \n",
      "prev: 42ec0e2ae2f53abff3e32421c8f5447ea5e70bc1\n",
      "next: 062e10ea3c98e641ca0f8e49892e13ebcd363e29\n"
     ]
    }
   ],
   "metadata": {}
  },
  {
   "cell_type": "markdown",
   "source": [
    "### Obstacles\n",
    "\n",
    "The obstacles are the vehicles which stays static all the time in its scene"
   ],
   "metadata": {}
  },
  {
   "cell_type": "code",
   "execution_count": 10,
   "source": [
    "print(\"obstacles (preview):\", scene['obstacles'][:3])"
   ],
   "outputs": [
    {
     "output_type": "stream",
     "name": "stdout",
     "text": [
      "obstacles (preview): ['02778fb4cafec30d01ba4e59a8eb53f19c3b9c86', '8d08ec553539276f33cba6aa12eed8fc07371672', '49d7b7d2ac181f8b114f21d8d31dab3e314ccc45']\n"
     ]
    }
   ],
   "metadata": {}
  },
  {
   "cell_type": "markdown",
   "source": [
    "We can use the `get()` method to obtain each obstacle. Each obstacle contains the token of itself, the token of its scene, the type of this obstacle, the size of its bounding box, the center coordinates, and the heading angle"
   ],
   "metadata": {}
  },
  {
   "cell_type": "code",
   "execution_count": 11,
   "source": [
    "obstacle = ds.get('obstacle', scene['obstacles'][0])\n",
    "print(obstacle)"
   ],
   "outputs": [
    {
     "output_type": "stream",
     "name": "stdout",
     "text": [
      "{'obstacle_token': '02778fb4cafec30d01ba4e59a8eb53f19c3b9c86', 'scene_token': '66045def24565e370dff814aa01e8ffed07318b9', 'type': 'Bus', 'size': [10.5271, 3.0816], 'coords': [132.93999999994412, 55.31999999983236], 'heading': -1.5545926535897931}\n"
     ]
    }
   ],
   "metadata": {}
  }
 ],
 "metadata": {
  "interpreter": {
   "hash": "aee8b7b246df8f9039afb4144a1f6fd8d2ca17a180786b69acc140d282b71a49"
  },
  "kernelspec": {
   "name": "python3",
   "display_name": "Python 3.9.0 64-bit"
  },
  "language_info": {
   "codemirror_mode": {
    "name": "ipython",
    "version": 3
   },
   "file_extension": ".py",
   "mimetype": "text/x-python",
   "name": "python",
   "nbconvert_exporter": "python",
   "pygments_lexer": "ipython3",
   "version": "3.9.0"
  }
 },
 "nbformat": 4,
 "nbformat_minor": 2
}