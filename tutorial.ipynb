{
 "cells": [
  {
   "cell_type": "markdown",
   "metadata": {},
   "source": [
    "# Parking Dataset\n",
    "\n",
    "This notebook walks through usage of the Parking Dataset API."
   ]
  },
  {
   "cell_type": "markdown",
   "metadata": {},
   "source": [
    "### Setup\n",
    "\n",
    "The `load()` method loads all JSON files for a scene. In this example, we are loading:\n",
    "\n",
    "- `data/DJI_0001_frames.json`\n",
    "- `data/DJI_0001_agents.json`\n",
    "- `data/DJI_0001_instances.json`\n",
    "- `data/DJI_0001_obstacles.json`\n",
    "- `data/DJI_0001_scene.json`"
   ]
  },
  {
   "cell_type": "code",
   "execution_count": 1,
   "metadata": {},
   "outputs": [],
   "source": [
    "from dataset import Dataset\n",
    "\n",
    "ds = Dataset()\n",
    "ds.load('data/DJI_0002')"
   ]
  },
  {
   "cell_type": "markdown",
   "metadata": {},
   "source": [
    "### Scenes\n",
    "\n",
    "We can use `list_scenes()` to obtain a list of tokens corresponding to scenes that have been loaded."
   ]
  },
  {
   "cell_type": "code",
   "execution_count": 2,
   "metadata": {},
   "outputs": [
    {
     "data": {
      "text/plain": [
       "['945381662bb4fd1e2cab8c9a1bd0efd246e6a627']"
      ]
     },
     "execution_count": 2,
     "metadata": {},
     "output_type": "execute_result"
    }
   ],
   "source": [
    "all_scenes = ds.list_scenes()\n",
    "all_scenes"
   ]
  },
  {
   "cell_type": "markdown",
   "metadata": {},
   "source": [
    "Use `get()` to look up a data object by its token."
   ]
  },
  {
   "cell_type": "code",
   "execution_count": 3,
   "metadata": {},
   "outputs": [
    {
     "name": "stdout",
     "output_type": "stream",
     "text": [
      "Keys: dict_keys(['scene_token', 'filename', 'timestamp', 'first_frame', 'last_frame', 'agents', 'obstacles'])\n",
      "Scene_token: 945381662bb4fd1e2cab8c9a1bd0efd246e6a627\n",
      "filename: DJI_0002\n",
      "timestamp: 2020-06-20 15:10:28\n",
      "first_frame: 9b83045c9c4c4d1939ba04b6811b69d58bb76e21\n",
      "last_frame: d8f45f4eb4a02a716692b5cab20b529f1aaea423\n",
      "agents (preview): ['07b280ebdb82a9d38ba9807130451c5575a7fba7', '4e8113b47eb2572c0307d70fcbcb189b6a7d2555']\n",
      "obstacles (preview): ['eb0fb143c4d9a2d4f105177848c390f6e51f62bf', '6881c7f852270aa452c70e9538ae81caaac790a1']\n"
     ]
    }
   ],
   "source": [
    "scene_token = all_scenes[0]\n",
    "scene = ds.get('scene', scene_token)\n",
    "print(\"Keys:\", scene.keys())\n",
    "print(\"Scene_token:\", scene['scene_token'])\n",
    "print(\"filename:\", scene['filename'])\n",
    "print(\"timestamp:\", scene['timestamp'])\n",
    "print(\"first_frame:\", scene['first_frame'])\n",
    "print(\"last_frame:\", scene['last_frame'])\n",
    "print(\"agents (preview):\", scene['agents'][:2])\n",
    "print(\"obstacles (preview):\", scene['obstacles'][:2])"
   ]
  },
  {
   "cell_type": "markdown",
   "metadata": {},
   "source": [
    "### Frames\n",
    "\n",
    "Let's look at the first frame in the scene:"
   ]
  },
  {
   "cell_type": "code",
   "execution_count": 4,
   "metadata": {},
   "outputs": [
    {
     "name": "stdout",
     "output_type": "stream",
     "text": [
      "Keys: dict_keys(['frame_token', 'scene_token', 'timestamp', 'prev', 'next', 'instances'])\n",
      "frame_token: 9b83045c9c4c4d1939ba04b6811b69d58bb76e21\n",
      "scene_token: 945381662bb4fd1e2cab8c9a1bd0efd246e6a627\n",
      "timestamp: 0.0\n",
      "instances (preview): ['cdbcb80cb0e043477a7154afcf4b6c79f814fefa', '43984fb28661f1c60058635b22d5bb289e9c8237']\n"
     ]
    }
   ],
   "source": [
    "frame_token = scene['first_frame']\n",
    "frame = ds.get('frame', frame_token)\n",
    "print(\"Keys:\", frame.keys())\n",
    "print(\"frame_token:\", frame['frame_token'])\n",
    "print(\"scene_token:\", frame['scene_token'])\n",
    "print(\"timestamp:\", frame['timestamp'])\n",
    "print(\"instances (preview):\", frame['instances'][:2])"
   ]
  },
  {
   "cell_type": "markdown",
   "metadata": {},
   "source": [
    "We can use the `get_future_frames()` or `get_past_frames()` methods look at a specified number of preceding/subsequent frames. The example below returns a list containing the given frame and the next 5 frames."
   ]
  },
  {
   "cell_type": "code",
   "execution_count": 5,
   "metadata": {},
   "outputs": [
    {
     "name": "stdout",
     "output_type": "stream",
     "text": [
      "Keys: dict_keys(['frame_token', 'scene_token', 'timestamp', 'prev', 'next', 'instances'])\n"
     ]
    }
   ],
   "source": [
    "future_frames = ds.get_future_frames(frame_token, timesteps=5)\n",
    "print(\"Keys:\", future_frames[0].keys())"
   ]
  },
  {
   "cell_type": "markdown",
   "metadata": {},
   "source": [
    "### Agents\n",
    "\n",
    "Now let's look at an agent:"
   ]
  },
  {
   "cell_type": "code",
   "execution_count": 6,
   "metadata": {},
   "outputs": [
    {
     "data": {
      "text/plain": [
       "{'agent_token': '07b280ebdb82a9d38ba9807130451c5575a7fba7',\n",
       " 'scene_token': '945381662bb4fd1e2cab8c9a1bd0efd246e6a627',\n",
       " 'type': 'Car',\n",
       " 'size': [4.9849, 2.7513],\n",
       " 'first_instance': 'cdbcb80cb0e043477a7154afcf4b6c79f814fefa',\n",
       " 'last_instance': '4425452149a5e97711018784c02ed1656051f539'}"
      ]
     },
     "execution_count": 6,
     "metadata": {},
     "output_type": "execute_result"
    }
   ],
   "source": [
    "agent_token = scene['agents'][0]\n",
    "agent = ds.get('agent', agent_token)\n",
    "agent"
   ]
  },
  {
   "cell_type": "markdown",
   "metadata": {},
   "source": [
    "Use `get_agent_instances()` to see all instances of an agent in the scene."
   ]
  },
  {
   "cell_type": "code",
   "execution_count": 7,
   "metadata": {},
   "outputs": [
    {
     "name": "stdout",
     "output_type": "stream",
     "text": [
      "Keys: dict_keys(['instance_token', 'agent_token', 'frame_token', 'coords', 'heading', 'speed', 'acceleration', 'mode', 'prev', 'next'])\n",
      "coords: [746947.31, 3856824.27]\n",
      "heading: 1.5617\n",
      "speed: 0.21\n",
      "acceleration: [0.0373, 0.0048]\n",
      "mode: moving\n",
      "prev: \n",
      "next: f226a357ce53acb296c292f1aff375f850c66c19\n"
     ]
    }
   ],
   "source": [
    "agent_instances = ds.get_agent_instances(agent_token)\n",
    "\n",
    "print(\"Keys:\", agent_instances[0].keys())\n",
    "print(\"coords:\", agent_instances[0]['coords'])\n",
    "print(\"heading:\", agent_instances[0]['heading'])\n",
    "print(\"speed:\", agent_instances[0]['speed'])\n",
    "print(\"acceleration:\", agent_instances[0]['acceleration'])\n",
    "print(\"mode:\", agent_instances[0]['mode'])\n",
    "print(\"prev:\", agent_instances[0]['prev'])\n",
    "print(\"next:\", agent_instances[0]['next'])"
   ]
  },
  {
   "cell_type": "markdown",
   "metadata": {},
   "source": [
    "### Instances\n",
    "\n",
    "This is the last instance of our agent in the scene:"
   ]
  },
  {
   "cell_type": "code",
   "execution_count": 8,
   "metadata": {},
   "outputs": [
    {
     "data": {
      "text/plain": [
       "{'instance_token': '4425452149a5e97711018784c02ed1656051f539',\n",
       " 'agent_token': '07b280ebdb82a9d38ba9807130451c5575a7fba7',\n",
       " 'frame_token': 'd8f45f4eb4a02a716692b5cab20b529f1aaea423',\n",
       " 'coords': [746947.35, 3856824.54],\n",
       " 'heading': 1.5544,\n",
       " 'speed': 0.0,\n",
       " 'acceleration': [0.0, 0.0],\n",
       " 'mode': 'parked',\n",
       " 'prev': '66448ffef2857d73e4fe05a234c8fa0ae8c15cb8',\n",
       " 'next': ''}"
      ]
     },
     "execution_count": 8,
     "metadata": {},
     "output_type": "execute_result"
    }
   ],
   "source": [
    "instance_token = agent['last_instance']\n",
    "instance = ds.get('instance', instance_token)\n",
    "instance"
   ]
  },
  {
   "cell_type": "markdown",
   "metadata": {},
   "source": [
    "We can use the `get_agent_future()` or `get_agent_past()` methods to look at a specified number of future/past instances of this agent. The example below returns a list containing the previous 5 instances along with the given instance."
   ]
  },
  {
   "cell_type": "code",
   "execution_count": 9,
   "metadata": {},
   "outputs": [
    {
     "name": "stdout",
     "output_type": "stream",
     "text": [
      "Keys: dict_keys(['instance_token', 'agent_token', 'frame_token', 'coords', 'heading', 'speed', 'acceleration', 'mode', 'prev', 'next'])\n",
      "coords: [746947.35, 3856824.54]\n",
      "heading: 1.5544\n",
      "speed: 0.0\n",
      "acceleration: [0.0, 0.0]\n",
      "mode: parked\n",
      "prev: 2c49eebc46b609e1d863530e597ec41269b8bf6b\n",
      "next: d604a91372b7a65af29c92eea3b88ddf6e4cb471\n"
     ]
    }
   ],
   "source": [
    "past_instances = ds.get_agent_past(instance_token, timesteps=5)\n",
    "\n",
    "print(\"Keys:\", past_instances[0].keys())\n",
    "print(\"coords:\", past_instances[0]['coords'])\n",
    "print(\"heading:\", past_instances[0]['heading'])\n",
    "print(\"speed:\", past_instances[0]['speed'])\n",
    "print(\"acceleration:\", past_instances[0]['acceleration'])\n",
    "print(\"mode:\", past_instances[0]['mode'])\n",
    "print(\"prev:\", past_instances[0]['prev'])\n",
    "print(\"next:\", past_instances[0]['next'])"
   ]
  },
  {
   "cell_type": "markdown",
   "metadata": {},
   "source": [
    "### Obstacles\n",
    "\n",
    "The obstacles are the vehicles which stays static all the time in its scene"
   ]
  },
  {
   "cell_type": "code",
   "execution_count": 10,
   "metadata": {},
   "outputs": [
    {
     "name": "stdout",
     "output_type": "stream",
     "text": [
      "obstacles (preview): ['eb0fb143c4d9a2d4f105177848c390f6e51f62bf', '6881c7f852270aa452c70e9538ae81caaac790a1', 'ec155dc06350919935e4fda2cf59f04687f07cf8']\n"
     ]
    }
   ],
   "source": [
    "print(\"obstacles (preview):\", scene['obstacles'][:3])"
   ]
  },
  {
   "cell_type": "markdown",
   "metadata": {},
   "source": [
    "We can use the `get()` method to obtain each obstacle. Each obstacle contains the token of itself, the token of its scene, the type of this obstacle, the size of its bounding box, the center coordinates, and the heading angle"
   ]
  },
  {
   "cell_type": "code",
   "execution_count": 11,
   "metadata": {},
   "outputs": [
    {
     "name": "stdout",
     "output_type": "stream",
     "text": [
      "{'obstacle_token': 'eb0fb143c4d9a2d4f105177848c390f6e51f62bf', 'scene_token': '945381662bb4fd1e2cab8c9a1bd0efd246e6a627', 'type': 'Car', 'size': [4.5787, 2.1563], 'coords': [746952.76, 3856824.06], 'heading': 4.7542}\n"
     ]
    }
   ],
   "source": [
    "obstacle = ds.get('obstacle', scene['obstacles'][0])\n",
    "print(obstacle)"
   ]
  }
 ],
 "metadata": {
  "interpreter": {
   "hash": "c3068543d83b2f7f4fc82954e9d45bcb9d8d5fe162285bc05d50438f41f326ce"
  },
  "kernelspec": {
   "display_name": "Python 3.8.5 64-bit ('h_control': virtualenvwrapper)",
   "name": "python3"
  },
  "language_info": {
   "name": "python",
   "version": ""
  }
 },
 "nbformat": 4,
 "nbformat_minor": 2
}