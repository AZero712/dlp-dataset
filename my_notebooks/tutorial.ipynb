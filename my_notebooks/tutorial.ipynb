{
 "cells": [
  {
   "cell_type": "markdown",
   "metadata": {},
   "source": [
    "# Dragon Lake Parking (DLP) Dataset\n",
    "\n",
    "This notebook walks through usage of the Parking Dataset API."
   ]
  },
  {
   "cell_type": "markdown",
   "metadata": {},
   "source": [
    "### Setup\n",
    "\n",
    "The `load()` method loads all JSON files for a scene. In this example, we are loading:\n",
    "\n",
    "- `data/DJI_0001_frames.json`\n",
    "- `data/DJI_0001_agents.json`\n",
    "- `data/DJI_0001_instances.json`\n",
    "- `data/DJI_0001_obstacles.json`\n",
    "- `data/DJI_0001_scene.json`"
   ]
  },
  {
   "cell_type": "code",
   "execution_count": 17,
   "metadata": {},
   "outputs": [],
   "source": [
    "from my_dlp.dataset import Dataset\n",
    "\n",
    "ds = Dataset()\n",
    "ds.load('../data/DJI_0012')"
   ]
  },
  {
   "cell_type": "markdown",
   "metadata": {},
   "source": [
    "### Scenes\n",
    "\n",
    "We can use `list_scenes()` to obtain a list of tokens corresponding to scenes that have been loaded."
   ]
  },
  {
   "cell_type": "code",
   "execution_count": 18,
   "metadata": {},
   "outputs": [
    {
     "data": {
      "text/plain": [
       "['scene_0']"
      ]
     },
     "execution_count": 18,
     "metadata": {},
     "output_type": "execute_result"
    }
   ],
   "source": [
    "all_scenes = ds.list_scenes()\n",
    "all_scenes"
   ]
  },
  {
   "cell_type": "markdown",
   "metadata": {},
   "source": [
    "Use `get()` to look up a data object by its token."
   ]
  },
  {
   "cell_type": "code",
   "execution_count": 19,
   "metadata": {},
   "outputs": [
    {
     "name": "stdout",
     "output_type": "stream",
     "text": [
      "Keys: dict_keys(['scene_token', 'filename', 'timestamp', 'first_frame', 'last_frame', 'agents', 'obstacles'])\n",
      "Scene_token: scene_0\n",
      "filename: DJI_0012\n",
      "timestamp: 2020-08-08 10:08:03\n",
      "first_frame: frame_0\n",
      "last_frame: frame_100\n",
      "agents (preview): ['agent_0', 'agent_1']\n",
      "obstacles (preview): ['02778fb4cafec30d01ba4e59a8eb53f19c3b9c86', '8d08ec553539276f33cba6aa12eed8fc07371672']\n"
     ]
    }
   ],
   "source": [
    "scene_token = all_scenes[0]\n",
    "scene = ds.get('scene', scene_token)\n",
    "print(\"Keys:\", scene.keys())\n",
    "print(\"Scene_token:\", scene['scene_token'])\n",
    "print(\"filename:\", scene['filename'])\n",
    "print(\"timestamp:\", scene['timestamp'])\n",
    "print(\"first_frame:\", scene['first_frame'])\n",
    "print(\"last_frame:\", scene['last_frame'])\n",
    "print(\"agents (preview):\", scene['agents'][:2])\n",
    "print(\"obstacles (preview):\", scene['obstacles'][:2])"
   ]
  },
  {
   "cell_type": "markdown",
   "metadata": {},
   "source": [
    "### Frames\n",
    "\n",
    "Let's look at the first frame in the scene:"
   ]
  },
  {
   "cell_type": "code",
   "execution_count": 20,
   "metadata": {},
   "outputs": [
    {
     "name": "stdout",
     "output_type": "stream",
     "text": [
      "Keys: dict_keys(['frame_token', 'scene_token', 'timestamp', 'next', 'prev', 'instances'])\n",
      "frame_token: frame_0\n",
      "scene_token: scene_0\n",
      "timestamp: 0.0\n",
      "instances (preview): ['frame_0_instance_agent_0', 'frame_0_instance_agent_1']\n"
     ]
    }
   ],
   "source": [
    "frame_token = scene['first_frame']\n",
    "frame = ds.get('frame', frame_token)\n",
    "print(\"Keys:\", frame.keys())\n",
    "print(\"frame_token:\", frame['frame_token'])\n",
    "print(\"scene_token:\", frame['scene_token'])\n",
    "print(\"timestamp:\", frame['timestamp'])\n",
    "print(\"instances (preview):\", frame['instances'][:2])"
   ]
  },
  {
   "cell_type": "markdown",
   "metadata": {},
   "source": [
    "We can use the `get_frame_at_time()` method to get the frame at a certian time. The specified time to query can be any float value (in secs) within the total length of the video, and the method will return the closet frame towards that time. The example below returns the frame at about 15.00s of the video. "
   ]
  },
  {
   "cell_type": "code",
   "execution_count": 21,
   "metadata": {},
   "outputs": [
    {
     "name": "stdout",
     "output_type": "stream",
     "text": [
      "Keys: dict_keys(['frame_token', 'scene_token', 'timestamp', 'next', 'prev', 'instances'])\n",
      "frame_token: frame_50\n",
      "scene_token: scene_0\n",
      "timestamp: 2.0\n",
      "instances (preview): ['frame_50_instance_agent_0', 'frame_50_instance_agent_1']\n"
     ]
    }
   ],
   "source": [
    "frame = ds.get_frame_at_time(scene_token, 2)\n",
    "print(\"Keys:\", frame.keys())\n",
    "print(\"frame_token:\", frame['frame_token'])\n",
    "print(\"scene_token:\", frame['scene_token'])\n",
    "print(\"timestamp:\", frame['timestamp'])\n",
    "print(\"instances (preview):\", frame['instances'][:2])"
   ]
  },
  {
   "cell_type": "markdown",
   "metadata": {},
   "source": [
    "We can use the `get_future_frames()` or `get_past_frames()` methods look at a specified number of preceding/subsequent frames. The example below returns a list containing the given frame and the next 5 frames."
   ]
  },
  {
   "cell_type": "code",
   "execution_count": 22,
   "metadata": {},
   "outputs": [
    {
     "name": "stdout",
     "output_type": "stream",
     "text": [
      "Keys: dict_keys(['frame_token', 'scene_token', 'timestamp', 'next', 'prev', 'instances'])\n",
      "6 future frames\n"
     ]
    }
   ],
   "source": [
    "future_frames = ds.get_future_frames(frame_token, timesteps=5)\n",
    "print(\"Keys:\", future_frames[0].keys())\n",
    "print(len(future_frames), \"future frames\")\n"
   ]
  },
  {
   "cell_type": "markdown",
   "metadata": {},
   "source": [
    "### Agents\n",
    "\n",
    "Now let's look at an agent:"
   ]
  },
  {
   "cell_type": "code",
   "execution_count": 23,
   "metadata": {},
   "outputs": [
    {
     "data": {
      "text/plain": [
       "{'agent_token': 'agent_0',\n",
       " 'scene_token': 'scene_0',\n",
       " 'type': 'Car',\n",
       " 'size': [4.7048, 1.8778],\n",
       " 'first_instance': 'frame_0_instance_agent_0',\n",
       " 'last_instance': 'frame_100_instance_agent_0'}"
      ]
     },
     "execution_count": 23,
     "metadata": {},
     "output_type": "execute_result"
    }
   ],
   "source": [
    "agent_token = scene['agents'][0]\n",
    "agent = ds.get('agent', agent_token)\n",
    "agent"
   ]
  },
  {
   "cell_type": "markdown",
   "metadata": {},
   "source": [
    "Use `get_agent_instances()` to see all instances of an agent in the scene."
   ]
  },
  {
   "cell_type": "code",
   "execution_count": 24,
   "metadata": {},
   "outputs": [
    {
     "name": "stdout",
     "output_type": "stream",
     "text": [
      "Keys: dict_keys(['frame_token', 'agent_token', 'instance_token', 'coords', 'heading', 'speed', 'acceleration', 'mode', 'prev', 'next'])\n",
      "coords: [77.70538462, 64.95]\n",
      "heading: 0.0\n",
      "speed: 0.0\n",
      "acceleration: [0.0, 0.0]\n",
      "mode: unclear\n",
      "prev: None\n",
      "next: frame_1_instance_agent_0\n"
     ]
    }
   ],
   "source": [
    "agent_instances = ds.get_agent_instances(agent_token)\n",
    "\n",
    "print(\"Keys:\", agent_instances[0].keys())\n",
    "print(\"coords:\", agent_instances[0]['coords'])\n",
    "print(\"heading:\", agent_instances[0]['heading'])\n",
    "print(\"speed:\", agent_instances[0]['speed'])\n",
    "print(\"acceleration:\", agent_instances[0]['acceleration'])\n",
    "print(\"mode:\", agent_instances[0]['mode'])\n",
    "print(\"prev:\", agent_instances[0]['prev'])\n",
    "print(\"next:\", agent_instances[0]['next'])"
   ]
  },
  {
   "cell_type": "markdown",
   "metadata": {},
   "source": [
    "### Instances\n",
    "\n",
    "This is the last instance of our agent in the scene:"
   ]
  },
  {
   "cell_type": "code",
   "execution_count": 25,
   "metadata": {},
   "outputs": [
    {
     "data": {
      "text/plain": [
       "{'frame_token': 'frame_0',\n",
       " 'agent_token': 'agent_0',\n",
       " 'instance_token': 'frame_0_instance_agent_0',\n",
       " 'coords': [77.70538462, 64.95],\n",
       " 'heading': 0.0,\n",
       " 'speed': 0.0,\n",
       " 'acceleration': [0.0, 0.0],\n",
       " 'mode': 'unclear',\n",
       " 'prev': None,\n",
       " 'next': 'frame_1_instance_agent_0'}"
      ]
     },
     "execution_count": 25,
     "metadata": {},
     "output_type": "execute_result"
    }
   ],
   "source": [
    "instance_token = agent['last_instance']\n",
    "instance = ds.get('instance', instance_token)\n",
    "instance"
   ]
  },
  {
   "cell_type": "markdown",
   "metadata": {},
   "source": [
    "We can search for the closest instance at a certain location with `get_inst_at_location()` method:"
   ]
  },
  {
   "cell_type": "code",
   "execution_count": 26,
   "metadata": {},
   "outputs": [
    {
     "data": {
      "text/plain": [
       "{'frame_token': 'frame_0',\n",
       " 'agent_token': 'agent_4',\n",
       " 'instance_token': 'frame_0_instance_agent_4',\n",
       " 'coords': [100.5, 64.95],\n",
       " 'heading': 3.14,\n",
       " 'speed': 0.0,\n",
       " 'acceleration': [0.0, 0.0],\n",
       " 'mode': 'unclear',\n",
       " 'prev': None,\n",
       " 'next': 'frame_1_instance_agent_4'}"
      ]
     },
     "execution_count": 26,
     "metadata": {},
     "output_type": "execute_result"
    }
   ],
   "source": [
    "closest_instance = ds.get_inst_at_location(frame_token, [90, 65])\n",
    "closest_instance"
   ]
  },
  {
   "cell_type": "markdown",
   "metadata": {},
   "source": [
    "We can use the `get_agent_future()` or `get_agent_past()` methods to look at a specified number of future/past instances of this agent. The example below returns a list containing the previous 5 instances along with the given instance."
   ]
  },
  {
   "cell_type": "code",
   "execution_count": 27,
   "metadata": {},
   "outputs": [
    {
     "name": "stdout",
     "output_type": "stream",
     "text": [
      "Keys: dict_keys(['frame_token', 'agent_token', 'instance_token', 'coords', 'heading', 'speed', 'acceleration', 'mode', 'prev', 'next'])\n",
      "coords: [77.70538462, 64.95]\n",
      "heading: 0.0\n",
      "speed: 0.0\n",
      "acceleration: [0.0, 0.0]\n",
      "mode: unclear\n",
      "prev: None\n",
      "next: frame_1_instance_agent_0\n"
     ]
    }
   ],
   "source": [
    "past_instances = ds.get_agent_past(instance_token, timesteps=5)\n",
    "\n",
    "print(\"Keys:\", past_instances[0].keys())\n",
    "print(\"coords:\", past_instances[0]['coords'])\n",
    "print(\"heading:\", past_instances[0]['heading'])\n",
    "print(\"speed:\", past_instances[0]['speed'])\n",
    "print(\"acceleration:\", past_instances[0]['acceleration'])\n",
    "print(\"mode:\", past_instances[0]['mode'])\n",
    "print(\"prev:\", past_instances[0]['prev'])\n",
    "print(\"next:\", past_instances[0]['next'])"
   ]
  },
  {
   "cell_type": "markdown",
   "metadata": {},
   "source": [
    "By default, the speed value in the instance is the absolute value. To obtain the \"signed\" speed so that it is negative when vehicle is backing up, use `signed_speed()` function"
   ]
  },
  {
   "cell_type": "code",
   "execution_count": 28,
   "metadata": {},
   "outputs": [
    {
     "name": "stdout",
     "output_type": "stream",
     "text": [
      "signed_speed: 0.0\n"
     ]
    }
   ],
   "source": [
    "signed_speed = ds.signed_speed(inst_token=instance_token)\n",
    "print('signed_speed:', signed_speed)"
   ]
  },
  {
   "cell_type": "markdown",
   "metadata": {},
   "source": [
    "Besides a list of future instances, it is also possible to get an Tx4 numpy array as the vehicle's future trajectory"
   ]
  },
  {
   "cell_type": "code",
   "execution_count": 29,
   "metadata": {},
   "outputs": [
    {
     "name": "stdout",
     "output_type": "stream",
     "text": [
      "[[77.74538462 64.95        0.          1.        ]\n",
      " [77.78538462 64.95        0.          1.        ]\n",
      " [77.82538462 64.95        0.          1.        ]\n",
      " [77.86538462 64.95        0.          1.        ]\n",
      " [77.90538462 64.95        0.          1.        ]\n",
      " [77.94538462 64.95        0.          1.        ]\n",
      " [77.98538462 64.95        0.          1.        ]\n",
      " [78.02538462 64.95        0.          1.        ]\n",
      " [78.06538462 64.95        0.          1.        ]\n",
      " [78.10538462 64.95        0.          1.        ]\n",
      " [78.14538462 64.95        0.          1.        ]\n",
      " [78.18538462 64.95        0.          1.        ]\n",
      " [78.22538462 64.95        0.          1.        ]\n",
      " [78.26538462 64.95        0.          1.        ]\n",
      " [78.30538462 64.95        0.          1.        ]\n",
      " [78.34538462 64.95        0.          1.        ]\n",
      " [78.38538462 64.95        0.          1.        ]\n",
      " [78.42538462 64.95        0.          1.        ]\n",
      " [78.46538462 64.95        0.          1.        ]\n",
      " [78.50538462 64.95        0.          1.        ]\n",
      " [78.54538462 64.95        0.          1.        ]\n",
      " [78.58538462 64.95        0.          1.        ]\n",
      " [78.62538462 64.95        0.          1.        ]\n",
      " [78.66538462 64.95        0.          1.        ]\n",
      " [78.70538462 64.95        0.          1.        ]\n",
      " [78.74538462 64.95        0.          1.        ]\n",
      " [78.78538462 64.95        0.          1.        ]\n",
      " [78.82538462 64.95        0.          1.        ]\n",
      " [78.86538462 64.95        0.          1.        ]\n",
      " [78.90538462 64.95        0.          1.        ]\n",
      " [78.94538462 64.95        0.          1.        ]\n",
      " [78.98538462 64.95        0.          1.        ]\n",
      " [79.02538462 64.95        0.          1.        ]\n",
      " [79.06538462 64.95        0.          1.        ]\n",
      " [79.10538462 64.95        0.          1.        ]\n",
      " [79.14538462 64.95        0.          1.        ]\n",
      " [79.18538462 64.95        0.          1.        ]\n",
      " [79.22538462 64.95        0.          1.        ]\n",
      " [79.26538462 64.95        0.          1.        ]\n",
      " [79.30538462 64.95        0.          1.        ]\n",
      " [79.34538462 64.95        0.          1.        ]\n",
      " [79.38538462 64.95        0.          1.        ]\n",
      " [79.42538462 64.95        0.          1.        ]\n",
      " [79.46538462 64.95        0.          1.        ]\n",
      " [79.50538462 64.95        0.          1.        ]\n",
      " [79.54538462 64.95        0.          1.        ]\n",
      " [79.58538462 64.95        0.          1.        ]\n",
      " [79.62538462 64.95        0.          1.        ]\n",
      " [79.66538462 64.95        0.          1.        ]\n",
      " [79.70538462 64.95        0.          1.        ]\n",
      " [79.74538462 64.95        0.          1.        ]\n",
      " [79.78538462 64.95        0.          1.        ]\n",
      " [79.82538462 64.95        0.          1.        ]\n",
      " [79.86538462 64.95        0.          1.        ]\n",
      " [79.90538462 64.95        0.          1.        ]\n",
      " [79.94538462 64.95        0.          1.        ]\n",
      " [79.98538462 64.95        0.          1.        ]\n",
      " [80.02538462 64.95        0.          1.        ]\n",
      " [80.06538462 64.95        0.          1.        ]\n",
      " [80.10538462 64.95        0.          1.        ]\n",
      " [80.14538462 64.95        0.          1.        ]\n",
      " [80.18538462 64.95        0.          1.        ]\n",
      " [80.22538462 64.95        0.          1.        ]\n",
      " [80.26538462 64.95        0.          1.        ]\n",
      " [80.30538462 64.95        0.          1.        ]\n",
      " [80.34538462 64.95        0.          1.        ]\n",
      " [80.38538462 64.95        0.          1.        ]\n",
      " [80.42538462 64.95        0.          1.        ]\n",
      " [80.46538462 64.95        0.          1.        ]\n",
      " [80.50538462 64.95        0.          1.        ]\n",
      " [80.54538462 64.95        0.          1.        ]\n",
      " [80.58538462 64.95        0.          1.        ]\n",
      " [80.62538462 64.95        0.          1.        ]\n",
      " [80.66538462 64.95        0.          1.        ]\n",
      " [80.70538462 64.95        0.          1.        ]\n",
      " [80.74538462 64.95        0.          1.        ]\n",
      " [80.78538462 64.95        0.          1.        ]\n",
      " [80.82538462 64.95        0.          1.        ]\n",
      " [80.86538462 64.95        0.          1.        ]\n",
      " [80.90538462 64.95        0.          1.        ]\n",
      " [80.94538462 64.95        0.          1.        ]\n",
      " [80.98538462 64.95        0.          1.        ]\n",
      " [81.02538462 64.95        0.          1.        ]\n",
      " [81.06538462 64.95        0.          1.        ]\n",
      " [81.10538462 64.95        0.          1.        ]\n",
      " [81.14538462 64.95        0.          1.        ]\n",
      " [81.18538462 64.95        0.          1.        ]\n",
      " [81.22538462 64.95        0.          1.        ]\n",
      " [81.26538462 64.95        0.          1.        ]\n",
      " [81.30538462 64.95        0.          1.        ]\n",
      " [81.34538462 64.95        0.          1.        ]\n",
      " [81.38538462 64.95        0.          1.        ]\n",
      " [81.42538462 64.95        0.          1.        ]\n",
      " [81.46538462 64.95        0.          1.        ]\n",
      " [81.50538462 64.95        0.          1.        ]\n",
      " [81.54538462 64.95        0.          1.        ]\n",
      " [81.58538462 64.95        0.          1.        ]\n",
      " [81.62538462 64.95        0.          1.        ]\n",
      " [81.66538462 64.95        0.          1.        ]]\n"
     ]
    }
   ],
   "source": [
    "future_traj = ds.get_future_traj(inst_token=instance_token)\n",
    "print(future_traj)"
   ]
  },
  {
   "cell_type": "markdown",
   "metadata": {},
   "source": [
    "An instance will have one of the stree modes:\n",
    "* 'parked': if the current instance is just static inside a parking spot\n",
    "* 'outgoing`: if the currrent instance is on the way towards the exit\n",
    "* 'incoming`: if the current instance is searching for a parking spot\n",
    "* 'unclear`: we cannot tell the vehicle's intent given the data recording\n",
    "\n",
    "The `get_inst_mode()` function will not only return the mode of the specified instance, but also write the mode into the instance object for later use"
   ]
  },
  {
   "cell_type": "code",
   "execution_count": 30,
   "metadata": {},
   "outputs": [
    {
     "name": "stdout",
     "output_type": "stream",
     "text": [
      "returned mode: unclear\n"
     ]
    },
    {
     "data": {
      "text/plain": [
       "{'frame_token': 'frame_0',\n",
       " 'agent_token': 'agent_0',\n",
       " 'instance_token': 'frame_0_instance_agent_0',\n",
       " 'coords': [77.70538462, 64.95],\n",
       " 'heading': 0.0,\n",
       " 'speed': 0.0,\n",
       " 'acceleration': [0.0, 0.0],\n",
       " 'mode': 'unclear',\n",
       " 'prev': None,\n",
       " 'next': 'frame_1_instance_agent_0'}"
      ]
     },
     "execution_count": 30,
     "metadata": {},
     "output_type": "execute_result"
    }
   ],
   "source": [
    "mode = ds.get_inst_mode(inst_token=instance_token)\n",
    "print('returned mode:', mode)\n",
    "instance"
   ]
  },
  {
   "cell_type": "markdown",
   "metadata": {},
   "source": [
    "### Obstacles\n",
    "\n",
    "The obstacles are the vehicles which stays static all the time in its scene"
   ]
  },
  {
   "cell_type": "code",
   "execution_count": 31,
   "metadata": {},
   "outputs": [
    {
     "name": "stdout",
     "output_type": "stream",
     "text": [
      "obstacles (preview): ['02778fb4cafec30d01ba4e59a8eb53f19c3b9c86', '8d08ec553539276f33cba6aa12eed8fc07371672', '49d7b7d2ac181f8b114f21d8d31dab3e314ccc45']\n"
     ]
    }
   ],
   "source": [
    "print(\"obstacles (preview):\", scene['obstacles'][:3])"
   ]
  },
  {
   "cell_type": "markdown",
   "metadata": {},
   "source": [
    "We can use the `get()` method to obtain each obstacle. Each obstacle contains the token of itself, the token of its scene, the type of this obstacle, the size of its bounding box, the center coordinates, and the heading angle"
   ]
  },
  {
   "cell_type": "code",
   "execution_count": 32,
   "metadata": {},
   "outputs": [
    {
     "name": "stdout",
     "output_type": "stream",
     "text": [
      "{'obstacle_token': '02778fb4cafec30d01ba4e59a8eb53f19c3b9c86', 'scene_token': '66045def24565e370dff814aa01e8ffed07318b9', 'type': 'Bus', 'size': [10.5271, 3.0816], 'coords': [132.93999999994412, 55.31999999983236], 'heading': -1.5545926535897931}\n"
     ]
    }
   ],
   "source": [
    "obstacle = ds.get('obstacle', scene['obstacles'][0])\n",
    "print(obstacle)"
   ]
  }
 ],
 "metadata": {
  "interpreter": {
   "hash": "aee8b7b246df8f9039afb4144a1f6fd8d2ca17a180786b69acc140d282b71a49"
  },
  "kernelspec": {
   "display_name": "Python 3.9.0 64-bit",
   "name": "python3"
  },
  "language_info": {
   "codemirror_mode": {
    "name": "ipython",
    "version": 3
   },
   "file_extension": ".py",
   "mimetype": "text/x-python",
   "name": "python",
   "nbconvert_exporter": "python",
   "pygments_lexer": "ipython3",
   "version": "3.8.10"
  }
 },
 "nbformat": 4,
 "nbformat_minor": 2
}
